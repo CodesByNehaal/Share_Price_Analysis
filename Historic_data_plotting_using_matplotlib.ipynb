{
  "cells": [
    {
      "cell_type": "markdown",
      "metadata": {
        "id": "view-in-github",
        "colab_type": "text"
      },
      "source": [
        "<a href=\"https://colab.research.google.com/github/CodesByNehaal/Share_Price_Analysis/blob/main/Historic_data_plotting_using_matplotlib.ipynb\" target=\"_parent\"><img src=\"https://colab.research.google.com/assets/colab-badge.svg\" alt=\"Open In Colab\"/></a>"
      ]
    },
    {
      "cell_type": "code",
      "execution_count": 1,
      "id": "cb4feeba",
      "metadata": {
        "id": "cb4feeba",
        "colab": {
          "base_uri": "https://localhost:8080/"
        },
        "outputId": "0816f4f5-022d-43b3-ae85-347598cd723a"
      },
      "outputs": [
        {
          "output_type": "stream",
          "name": "stdout",
          "text": [
            "Looking in indexes: https://pypi.org/simple, https://us-python.pkg.dev/colab-wheels/public/simple/\n",
            "Collecting yfinance\n",
            "  Downloading yfinance-0.1.72-py2.py3-none-any.whl (27 kB)\n",
            "Collecting lxml>=4.5.1\n",
            "  Downloading lxml-4.9.1-cp37-cp37m-manylinux_2_17_x86_64.manylinux2014_x86_64.manylinux_2_24_x86_64.whl (6.4 MB)\n",
            "\u001b[K     |████████████████████████████████| 6.4 MB 31.9 MB/s \n",
            "\u001b[?25hRequirement already satisfied: numpy>=1.15 in /usr/local/lib/python3.7/dist-packages (from yfinance) (1.21.6)\n",
            "Collecting requests>=2.26\n",
            "  Downloading requests-2.28.1-py3-none-any.whl (62 kB)\n",
            "\u001b[K     |████████████████████████████████| 62 kB 1.3 MB/s \n",
            "\u001b[?25hRequirement already satisfied: multitasking>=0.0.7 in /usr/local/lib/python3.7/dist-packages (from yfinance) (0.0.10)\n",
            "Requirement already satisfied: pandas>=0.24.0 in /usr/local/lib/python3.7/dist-packages (from yfinance) (1.3.5)\n",
            "Requirement already satisfied: pytz>=2017.3 in /usr/local/lib/python3.7/dist-packages (from pandas>=0.24.0->yfinance) (2022.1)\n",
            "Requirement already satisfied: python-dateutil>=2.7.3 in /usr/local/lib/python3.7/dist-packages (from pandas>=0.24.0->yfinance) (2.8.2)\n",
            "Requirement already satisfied: six>=1.5 in /usr/local/lib/python3.7/dist-packages (from python-dateutil>=2.7.3->pandas>=0.24.0->yfinance) (1.15.0)\n",
            "Requirement already satisfied: charset-normalizer<3,>=2 in /usr/local/lib/python3.7/dist-packages (from requests>=2.26->yfinance) (2.1.0)\n",
            "Requirement already satisfied: certifi>=2017.4.17 in /usr/local/lib/python3.7/dist-packages (from requests>=2.26->yfinance) (2022.6.15)\n",
            "Requirement already satisfied: idna<4,>=2.5 in /usr/local/lib/python3.7/dist-packages (from requests>=2.26->yfinance) (2.10)\n",
            "Requirement already satisfied: urllib3<1.27,>=1.21.1 in /usr/local/lib/python3.7/dist-packages (from requests>=2.26->yfinance) (1.24.3)\n",
            "Installing collected packages: requests, lxml, yfinance\n",
            "  Attempting uninstall: requests\n",
            "    Found existing installation: requests 2.23.0\n",
            "    Uninstalling requests-2.23.0:\n",
            "      Successfully uninstalled requests-2.23.0\n",
            "  Attempting uninstall: lxml\n",
            "    Found existing installation: lxml 4.2.6\n",
            "    Uninstalling lxml-4.2.6:\n",
            "      Successfully uninstalled lxml-4.2.6\n",
            "\u001b[31mERROR: pip's dependency resolver does not currently take into account all the packages that are installed. This behaviour is the source of the following dependency conflicts.\n",
            "google-colab 1.0.0 requires requests~=2.23.0, but you have requests 2.28.1 which is incompatible.\n",
            "datascience 0.10.6 requires folium==0.2.1, but you have folium 0.8.3 which is incompatible.\u001b[0m\n",
            "Successfully installed lxml-4.9.1 requests-2.28.1 yfinance-0.1.72\n",
            "Looking in indexes: https://pypi.org/simple, https://us-python.pkg.dev/colab-wheels/public/simple/\n",
            "Collecting mplfinance\n",
            "  Downloading mplfinance-0.12.9b1-py3-none-any.whl (70 kB)\n",
            "\u001b[K     |████████████████████████████████| 70 kB 7.4 MB/s \n",
            "\u001b[?25hRequirement already satisfied: matplotlib in /usr/local/lib/python3.7/dist-packages (from mplfinance) (3.2.2)\n",
            "Requirement already satisfied: pandas in /usr/local/lib/python3.7/dist-packages (from mplfinance) (1.3.5)\n",
            "Requirement already satisfied: python-dateutil>=2.1 in /usr/local/lib/python3.7/dist-packages (from matplotlib->mplfinance) (2.8.2)\n",
            "Requirement already satisfied: cycler>=0.10 in /usr/local/lib/python3.7/dist-packages (from matplotlib->mplfinance) (0.11.0)\n",
            "Requirement already satisfied: pyparsing!=2.0.4,!=2.1.2,!=2.1.6,>=2.0.1 in /usr/local/lib/python3.7/dist-packages (from matplotlib->mplfinance) (3.0.9)\n",
            "Requirement already satisfied: kiwisolver>=1.0.1 in /usr/local/lib/python3.7/dist-packages (from matplotlib->mplfinance) (1.4.3)\n",
            "Requirement already satisfied: numpy>=1.11 in /usr/local/lib/python3.7/dist-packages (from matplotlib->mplfinance) (1.21.6)\n",
            "Requirement already satisfied: typing-extensions in /usr/local/lib/python3.7/dist-packages (from kiwisolver>=1.0.1->matplotlib->mplfinance) (4.1.1)\n",
            "Requirement already satisfied: six>=1.5 in /usr/local/lib/python3.7/dist-packages (from python-dateutil>=2.1->matplotlib->mplfinance) (1.15.0)\n",
            "Requirement already satisfied: pytz>=2017.3 in /usr/local/lib/python3.7/dist-packages (from pandas->mplfinance) (2022.1)\n",
            "Installing collected packages: mplfinance\n",
            "Successfully installed mplfinance-0.12.9b1\n"
          ]
        }
      ],
      "source": [
        "!pip install yfinance\n",
        "!pip install mplfinance"
      ]
    },
    {
      "cell_type": "code",
      "source": [
        "import pandas as pd\n",
        "import datetime\n",
        "import numpy as np\n",
        "import matplotlib.pyplot as plt\n",
        "import yfinance as yf\n",
        "from mplfinance.original_flavor import candlestick_ohlc\n",
        "import matplotlib.dates as mpdates"
      ],
      "metadata": {
        "id": "ed7TBVGfCA-n"
      },
      "id": "ed7TBVGfCA-n",
      "execution_count": 2,
      "outputs": []
    },
    {
      "cell_type": "code",
      "execution_count": 4,
      "id": "0a7b2078",
      "metadata": {
        "id": "0a7b2078",
        "colab": {
          "base_uri": "https://localhost:8080/"
        },
        "outputId": "37dbe482-62e2-4def-c0d3-b57fab3d708e"
      },
      "outputs": [
        {
          "output_type": "stream",
          "name": "stdout",
          "text": [
            "ENTER A STOCK WHOSE HISTORIC DATA YOU WANT : reliance.ns\n",
            "[*********************100%***********************]  1 of 1 completed\n",
            "          Date         Open         High          Low        Close\n",
            "0   2020-01-01  1503.745972  1512.760498  1491.363403  1495.424927\n",
            "1   2020-01-02  1497.802368  1526.480469  1497.802368  1520.883545\n",
            "2   2020-01-03  1518.605103  1527.173950  1508.699097  1522.716187\n",
            "3   2020-01-06  1505.727173  1513.552979  1483.933838  1487.400879\n",
            "4   2020-01-07  1504.736572  1520.091064  1499.288208  1510.284058\n",
            "..         ...          ...          ...          ...          ...\n",
            "399 2021-08-09  2081.000000  2089.800049  2066.500000  2077.149902\n",
            "400 2021-08-10  2082.000000  2113.000000  2073.750000  2088.050049\n",
            "401 2021-08-11  2096.949951  2120.000000  2083.399902  2117.300049\n",
            "402 2021-08-12  2124.899902  2126.199951  2105.000000  2110.500000\n",
            "403 2021-08-13  2117.300049  2149.899902  2108.949951  2145.649902\n",
            "\n",
            "[404 rows x 5 columns]\n"
          ]
        }
      ],
      "source": [
        "\n",
        "ticker = input(\"ENTER A STOCK WHOSE HISTORIC DATA YOU WANT : \")\n",
        "df = yf.download(ticker,start='2020-01-01',end='2021-08-16')\n",
        "df = df.reset_index()\n",
        "df = df[['Date', 'Open', 'High', 'Low', 'Close']]\n",
        "print(df)\n",
        "\n"
      ]
    },
    {
      "cell_type": "code",
      "source": [
        "\n",
        "# convert into datetime object\n",
        "df['Date'] = pd.to_datetime(df['Date'])\n",
        "  \n",
        "# apply map function\n",
        "df['Date'] = df['Date'].map(mpdates.date2num)\n",
        "  \n",
        "# creating Subplots\n",
        "fig, ax = plt.subplots()\n",
        "  \n",
        "# plotting the data\n",
        "candlestick_ohlc(ax, df.values)\n",
        "  \n",
        "# allow grid\n",
        "ax.grid(True)\n",
        "  \n",
        "# Setting labels \n",
        "ax.set_xlabel('Date')\n",
        "ax.set_ylabel('Price(INR PER SHARE)')\n",
        "  \n",
        "# setting title\n",
        "plt.title('Prices For the Period 01-01-2020 to 16-08-2021')\n",
        "  \n",
        "# Formatting Date\n",
        "date_format = mpdates.DateFormatter('%d-%m-%Y')\n",
        "ax.xaxis.set_major_formatter(date_format)\n",
        "fig.autofmt_xdate()\n",
        "  \n",
        "fig.tight_layout()\n",
        "  \n",
        "# show the plot\n",
        "plt.show()"
      ],
      "metadata": {
        "colab": {
          "base_uri": "https://localhost:8080/",
          "height": 297
        },
        "id": "BlXYHIiqC1CR",
        "outputId": "12733cd5-2451-4c56-ff09-65ccc38f76a5"
      },
      "id": "BlXYHIiqC1CR",
      "execution_count": 5,
      "outputs": [
        {
          "output_type": "display_data",
          "data": {
            "text/plain": [
              "<Figure size 432x288 with 1 Axes>"
            ],
            "image/png": "[encoded data removed]"
          },
          "metadata": {
            "needs_background": "light"
          }
        }
      ]
    },
    {
      "cell_type": "code",
      "source": [
        ""
      ],
      "metadata": {
        "id": "TSvRYVOdEXVR"
      },
      "id": "TSvRYVOdEXVR",
      "execution_count": null,
      "outputs": []
    }
  ],
  "metadata": {
    "kernelspec": {
      "display_name": "Python 3",
      "language": "python",
      "name": "python3"
    },
    "language_info": {
      "codemirror_mode": {
        "name": "ipython",
        "version": 3
      },
      "file_extension": ".py",
      "mimetype": "text/x-python",
      "name": "python",
      "nbconvert_exporter": "python",
      "pygments_lexer": "ipython3",
      "version": "3.8.8"
    },
    "colab": {
      "name": "Historic data plotting using matplotlib.ipynb",
      "provenance": [],
      "collapsed_sections": [],
      "include_colab_link": true
    }
  },
  "nbformat": 4,
  "nbformat_minor": 5
}